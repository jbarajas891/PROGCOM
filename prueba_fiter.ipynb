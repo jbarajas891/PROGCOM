{
  "nbformat": 4,
  "nbformat_minor": 0,
  "metadata": {
    "colab": {
      "provenance": []
    },
    "kernelspec": {
      "name": "python3",
      "display_name": "Python 3"
    },
    "language_info": {
      "name": "python"
    }
  },
  "cells": [
    {
      "cell_type": "code",
      "execution_count": 17,
      "metadata": {
        "colab": {
          "base_uri": "https://localhost:8080/"
        },
        "id": "9LLwXMaYwyjI",
        "outputId": "541a2f2f-3f54-47e6-ab76-09f8678781fa"
      },
      "outputs": [
        {
          "output_type": "stream",
          "name": "stdout",
          "text": [
            "numero de estudiantes de curso2\n",
            " nombre de estudiantejp\n",
            " digite nota de cada estudiante2\n",
            " nombre de estudiantekl\n",
            " digite nota de cada estudiante1\n",
            "numero de estudiantes de curso 22\n",
            " nombre de estudianteklñ\n",
            " digite nota de cada estudiante2\n",
            " nombre de estudiantejpñh\n",
            " digite nota de cada estudiante3\n",
            "numero de estudiantes de curso 31\n",
            " nombre de estudianteghj\n",
            " digite nota de cada estudiante1\n",
            "el promedio de los grupos 1,2,3 es: 1.5 2.5 1.0\n",
            "el promedio de lso tres es: 6.5\n"
          ]
        }
      ],
      "source": [
        "\n",
        "gru1=[]\n",
        "notas1=[]\n",
        "gru2=[]\n",
        "notas2=[]\n",
        "gru3=[]\n",
        "notas3=[]\n",
        "n1=int(input('numero de estudiantes de curso'))\n",
        "for i in range (0,n1):\n",
        "  estudiante1=input(' nombre de estudiante')\n",
        "  nota1=int(input(' digite nota de cada estudiante'))\n",
        "  gru1.append(estudiante1)\n",
        "  notas1.append(nota1)\n",
        "sumnota=sum(notas1)\n",
        "n2=int(input('numero de estudiantes de curso 2'))\n",
        "for i in range (0,n2):\n",
        "  estudiante2=input(' nombre de estudiante')\n",
        "  nota2=int(input(' digite nota de cada estudiante'))\n",
        "  gru2.append(estudiante2)\n",
        "  notas2.append(nota2)\n",
        "sumnota2=sum(notas2)\n",
        "n3=int(input('numero de estudiantes de curso 3'))\n",
        "for i in range (0,n3):\n",
        "  estudiante3=input(' nombre de estudiante')\n",
        "  nota3=int(input(' digite nota de cada estudiante'))\n",
        "  gru3.append(estudiante3)\n",
        "  notas3.append(nota3)\n",
        "sumnota3=sum(notas3)\n",
        "sumtotalnot=(sumnota3+sumnota+sumnota)\n",
        "prom1=(sumnota/n1)\n",
        "prom2=(sumnota2/n2)\n",
        "prom3=(sumnota3/n3)\n",
        "promtotalnot=(sumtotalnot/n1+n2+n3)\n",
        "print('el promedio de los grupos 1,2,3 es:',prom1 , prom2 , prom3)\n",
        "print('el promedio de los tres es:',promtotalnot)\n",
        "\n",
        "\n",
        "\n",
        "\n",
        "\n",
        "\n",
        "\n",
        "\n",
        "\n",
        "\n"
      ]
    }
  ]
}