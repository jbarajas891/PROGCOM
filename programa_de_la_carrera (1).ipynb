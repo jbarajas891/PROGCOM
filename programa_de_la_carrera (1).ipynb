{
  "nbformat": 4,
  "nbformat_minor": 0,
  "metadata": {
    "colab": {
      "provenance": []
    },
    "kernelspec": {
      "name": "python3",
      "display_name": "Python 3"
    },
    "language_info": {
      "name": "python"
    }
  },
  "cells": [
    {
      "cell_type": "code",
      "execution_count": 1,
      "metadata": {
        "colab": {
          "base_uri": "https://localhost:8080/",
          "height": 135
        },
        "id": "c5IrKP5IIbxr",
        "outputId": "6684cab6-ea6b-409f-ca45-c3d2b3c562da"
      },
      "outputs": [
        {
          "output_type": "error",
          "ename": "SyntaxError",
          "evalue": "ignored",
          "traceback": [
            "\u001b[0;36m  File \u001b[0;32m\"<ipython-input-1-e96391a9b72f>\"\u001b[0;36m, line \u001b[0;32m2\u001b[0m\n\u001b[0;31m    def grados-radianes(grados)\u001b[0m\n\u001b[0m              ^\u001b[0m\n\u001b[0;31mSyntaxError\u001b[0m\u001b[0;31m:\u001b[0m invalid syntax\n"
          ]
        }
      ],
      "source": [
        "from  math import pi\n",
        "def grados-radianes(grados)\n",
        "    \"\"\"\n",
        "    convierte de grados a radianes\n",
        "    \"\"\"\n",
        "    radianes = grados -(pi/180)\n",
        "    return radianes\n",
        "print(grados-radianes(180))\n",
        "print(grados-radianes(90))"
      ]
    },
    {
      "cell_type": "code",
      "source": [
        "radianes=0\n",
        "print(\n",
        "    '//////con esto convertiras de grados a radianes\\\\\\\\\\\\'\n",
        ")\n",
        "grados= float(input('ingrese e valor en grados para convertir a radianes'))\n",
        "radianes = float(grados *(3.141516/180))\n",
        "print('su valor en grados :',grados,' es ', radianes )"
      ],
      "metadata": {
        "colab": {
          "base_uri": "https://localhost:8080/"
        },
        "id": "c-Azl1zeJpQ6",
        "outputId": "3adf1017-eca6-4d0d-e78b-226b3b34bdf2"
      },
      "execution_count": null,
      "outputs": [
        {
          "output_type": "stream",
          "name": "stdout",
          "text": [
            "//////con esto convertiras de grados a radianes\\\\\\\n"
          ]
        }
      ]
    }
  ]
}