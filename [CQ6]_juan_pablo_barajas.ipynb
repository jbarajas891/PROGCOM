{
  "nbformat": 4,
  "nbformat_minor": 0,
  "metadata": {
    "colab": {
      "provenance": [],
      "collapsed_sections": []
    },
    "kernelspec": {
      "name": "python3",
      "display_name": "Python 3"
    },
    "language_info": {
      "name": "python"
    }
  },
  "cells": [
    {
      "cell_type": "markdown",
      "source": [
        "[CQ6] – CHEMS QUEST SIX\n",
        "juan pablo barajas\n",
        "\n"
      ],
      "metadata": {
        "id": "Kby_bviImu0A"
      }
    },
    {
      "cell_type": "markdown",
      "source": [
        "False: Valor booleano, resultado de operaciones de comparación u operaciones lógicas en Python"
      ],
      "metadata": {
        "id": "48IO6fRqmy7O"
      }
    },
    {
      "cell_type": "code",
      "execution_count": null,
      "metadata": {
        "id": "PLlkYk0xmsZT"
      },
      "outputs": [],
      "source": [
        "x = False\n",
        "print(\"x: \", x)\n",
        "\n",
        "print(\"Tipo de variable de x:\", type(False))\n"
      ]
    },
    {
      "cell_type": "markdown",
      "source": [
        "None: Representa a un valor nulo"
      ],
      "metadata": {
        "id": "u33x1Vwhm6ZN"
      }
    },
    {
      "cell_type": "code",
      "source": [
        "a = None\n",
        "b = 0\n",
        "c = \"\"\n",
        "print(type(a))\n",
        "print(type(b))\n",
        "print(type(c))\n"
      ],
      "metadata": {
        "id": "32K5fWpom2xj"
      },
      "execution_count": null,
      "outputs": []
    },
    {
      "cell_type": "markdown",
      "source": [
        "True: Valor booleano, igual que false, resultado de operaciones de comparación u operaciones lógicas en Python"
      ],
      "metadata": {
        "id": "aCtaZBunm9ut"
      }
    },
    {
      "cell_type": "code",
      "source": [
        "x = True\n",
        "print(x)\n"
      ],
      "metadata": {
        "id": "o8WIPmfEm9pO"
      },
      "execution_count": null,
      "outputs": []
    },
    {
      "cell_type": "markdown",
      "source": [
        "And: Operador lógico"
      ],
      "metadata": {
        "id": "a_xEzf9gnJxj"
      }
    },
    {
      "cell_type": "code",
      "source": [
        "a = 5\n",
        "b = 2\n",
        "if a==5 and b>0:\n",
        "\tprint('a es 5 and',b,'es mayor que cero.')\n"
      ],
      "metadata": {
        "id": "kAFfa-8XnJZJ"
      },
      "execution_count": null,
      "outputs": []
    },
    {
      "cell_type": "markdown",
      "source": [
        "As: Se utiliza para crear un alias al importar un módulo.\n",
        "\n"
      ],
      "metadata": {
        "id": "Y00123denOAw"
      }
    },
    {
      "cell_type": "code",
      "source": [
        "import calendar as c\n",
        "print(c.month_name[1])\n"
      ],
      "metadata": {
        "id": "NEJnks4UnPgd"
      },
      "execution_count": null,
      "outputs": []
    },
    {
      "cell_type": "markdown",
      "source": [
        "Assert: Se utiliza con fines de depuración"
      ],
      "metadata": {
        "id": "IQxhFGPUnVFf"
      }
    },
    {
      "cell_type": "code",
      "source": [
        "def Calcular_sum(num):\n",
        "    assert len(num) != 0 \n",
        "    return sum(num)/len(num)\n",
        " \n",
        "num = []\n",
        "print( \" Suma de los numeros dados: \", Calcular_sum(num))\n"
      ],
      "metadata": {
        "id": "N7VoSVQ9nWxu"
      },
      "execution_count": null,
      "outputs": []
    },
    {
      "cell_type": "markdown",
      "source": [
        "Break: Se utiliza en el interior de los bucles for y while para alterar su comportamiento normal\n",
        "\n",
        "\n"
      ],
      "metadata": {
        "id": "GiNehUEAnZDu"
      }
    },
    {
      "cell_type": "code",
      "source": [
        "num =0 \n",
        "for num in range(10):\n",
        "  if num ==5:break"
      ],
      "metadata": {
        "id": "e_72xLtNnavq"
      },
      "execution_count": null,
      "outputs": []
    },
    {
      "cell_type": "markdown",
      "source": [
        "Class: Se usa para definir una nueva clase definida por el usuario\n",
        "class Point: \n"
      ],
      "metadata": {
        "id": "gtfN0xKankkB"
      }
    },
    {
      "cell_type": "code",
      "source": [
        "def __init__(self, x, y): \n",
        "      self.x = x\n",
        "      self.y = y\n",
        "      def __str__(self):\n",
        "        return '({},{})'.format(self.x, self.y) \n",
        "p1 = Point(10, 20)\n",
        "p2 = Point(5, 7)\n",
        "print('Points are: ' + str(p1) + ' and ' + str(p2))\n"
      ],
      "metadata": {
        "id": "Uhe8mzpMnlz1"
      },
      "execution_count": null,
      "outputs": []
    },
    {
      "cell_type": "markdown",
      "source": [
        "Continue: Se utiliza en el interior de los bucles for y while para alterar su comportamiento normal"
      ],
      "metadata": {
        "id": "vsW-5iuTn1XX"
      }
    },
    {
      "cell_type": "code",
      "source": [
        "for i in range(9):\n",
        "  if i == 3:\n",
        "    continue\n",
        "  print(i)\n"
      ],
      "metadata": {
        "id": "Vah-n9qqn07K"
      },
      "execution_count": null,
      "outputs": []
    },
    {
      "cell_type": "markdown",
      "source": [
        "Def: se usa para definir una función definida por el usuario\n",
        "import math\n"
      ],
      "metadata": {
        "id": "yAhPSTjjn6Gu"
      }
    },
    {
      "cell_type": "code",
      "source": [
        "def areaOfTheCircle(radius):\n",
        "    return math.pi*radius*radius\n",
        "radiusValue = 2\n",
        "circleArea  = areaOfTheCircle(radiusValue)\n",
        "print(\"Area of the circle with %f units radius is %f units\"%(radiusValue, circleArea));\n"
      ],
      "metadata": {
        "id": "bag3F-gfno4l"
      },
      "execution_count": null,
      "outputs": []
    },
    {
      "cell_type": "markdown",
      "source": [
        "Del: Para eliminar un objeto"
      ],
      "metadata": {
        "id": "XNlcJHqSn-8R"
      }
    },
    {
      "cell_type": "code",
      "source": [
        "class MyClass:\n",
        "  name = \"John\"\n",
        "del MyClass\n",
        "print(MyClass)\n"
      ],
      "metadata": {
        "id": "wDQPMhMWn-vh"
      },
      "execution_count": null,
      "outputs": []
    },
    {
      "cell_type": "markdown",
      "source": [
        "Elif: Se usa en declaraciones condicionales, igual ‘else’ e ‘if’"
      ],
      "metadata": {
        "id": "JqMowIjEoIYB"
      }
    },
    {
      "cell_type": "code",
      "source": [
        "for i in range(-5, 5):\n",
        "  if i > 0:\n",
        "    print(\"YES\")\n",
        "  elif i == 0:\n",
        "    print(\"SUIWI\")\n",
        "  else:\n",
        "    print(\"NO\")\n"
      ],
      "metadata": {
        "id": "ETtc7ExYoJna"
      },
      "execution_count": null,
      "outputs": []
    },
    {
      "cell_type": "markdown",
      "source": [
        "Else: Se usa en declaraciones condicionales, igual ‘elif’ e ‘if’"
      ],
      "metadata": {
        "id": "r98Q29Q4oDkM"
      }
    },
    {
      "cell_type": "code",
      "source": [
        "if num==0:\n",
        "    print(num, \" es igual a 0\")\n",
        "else:\n",
        "    print(num, \" no es igual a 0\")\n"
      ],
      "metadata": {
        "id": "yseLbEBRoQ3v"
      },
      "execution_count": null,
      "outputs": []
    },
    {
      "cell_type": "markdown",
      "source": [
        "Except: Se usa para crear excepciones, qué hacer cuando ocurre una excepción, igual que ‘raise’ "
      ],
      "metadata": {
        "id": "TCMqZkZyoUzA"
      }
    },
    {
      "cell_type": "code",
      "source": [
        "try:\n",
        "  x > 3\n",
        "except:\n",
        "  print(\"Ups error\")\n"
      ],
      "metadata": {
        "id": "JWfW_fbMoYC4"
      },
      "execution_count": null,
      "outputs": []
    },
    {
      "cell_type": "markdown",
      "source": [
        "Finally: Su uso garantiza que el bloque de código dentro de él se ejecute incluso si hay una excepción no controlada"
      ],
      "metadata": {
        "id": "xu-KRVJeobyu"
      }
    },
    {
      "cell_type": "code",
      "source": [
        "def divide(x, y):\n",
        "    try:\n",
        "        resultado = x // y\n",
        "    except ZeroDivisionError:\n",
        "        print(\"Error!, Está dividiendo por cero \")\n",
        "    else:\n",
        "        print(\"La respuesta es :\", resultado)\n",
        "    finally: \n",
        "        print('Gracias por usar la aplicación')  \n"
      ],
      "metadata": {
        "id": "laTDDfSIodPk"
      },
      "execution_count": null,
      "outputs": []
    },
    {
      "cell_type": "markdown",
      "source": [
        "For: Utilizado para hacer bucles. Generalmente lo usamos cuando sabemos la cantidad de veces que queremos que se ejecute ese bucle"
      ],
      "metadata": {
        "id": "Quvcwhglof5J"
      }
    },
    {
      "cell_type": "code",
      "source": [
        "a=int(input())\n",
        "n=\"#\"\n",
        "b=a\n",
        "c=1\n",
        "for i in range (1,a):\n",
        "  print(\" \"*b,n*c)\n",
        "  b=b-1\n",
        "  c=c+2\n"
      ],
      "metadata": {
        "id": "y29DF7bVofjw"
      },
      "execution_count": null,
      "outputs": []
    },
    {
      "cell_type": "markdown",
      "source": [
        "From: Para importar partes específicas de un módulo\n",
        "from datetime import time\n"
      ],
      "metadata": {
        "id": "R8N7HXxdojg0"
      }
    },
    {
      "cell_type": "code",
      "source": [
        "from datetime import time\n",
        "\n",
        "x = time(hour=15)\n",
        "\n",
        "print(x)\n"
      ],
      "metadata": {
        "id": "-HH7Eaf3olIS"
      },
      "execution_count": null,
      "outputs": []
    },
    {
      "cell_type": "markdown",
      "source": [
        "Global: Para declarar una variable global."
      ],
      "metadata": {
        "id": "cG6dB0Ssonf-"
      }
    },
    {
      "cell_type": "code",
      "source": [
        "c = 1 # global variable\n",
        "\n",
        "def add():\n",
        "    print(c)\n",
        "\n",
        "add()\n"
      ],
      "metadata": {
        "id": "hd3wnt-0outt"
      },
      "execution_count": null,
      "outputs": []
    },
    {
      "cell_type": "markdown",
      "source": [
        "If: Se usa en declaraciones condicionales, igual ‘else’ y ‘elif’"
      ],
      "metadata": {
        "id": "DvYTN-rIow5R"
      }
    },
    {
      "cell_type": "code",
      "source": [
        "x=str(input(\"Deme su letra\"))\n",
        "if x==\"a\" or x==\"e\" or x==\"i\" or x==\"o\" or x==\"u\" and x[1:2]==\" \":\n",
        "  print(\"Es una vocal\")\n",
        "else:\n",
        "  print[\"Es consonante\"]\n",
        "if x[0:1]==x[1:2] or x[0:1]!=\" \":\n",
        "  print(\"Solo se puede una letra\")\n"
      ],
      "metadata": {
        "id": "O_c_YSYKoy4h"
      },
      "execution_count": null,
      "outputs": []
    },
    {
      "cell_type": "markdown",
      "source": [
        "Import: Para importar un módulo"
      ],
      "metadata": {
        "id": "UP54J_Ono0sl"
      }
    },
    {
      "cell_type": "code",
      "source": [
        "import random\n",
        "op = [\"piedra\", \"tijera\", \"papel\"]\n",
        "\n",
        "while True:\n",
        "  user = input(\"Elige: piedra, papel o tijera\").lower()\n",
        "  if user not in op:\n",
        "    print(\"No esta en la opciones\")\n",
        "    continue \n",
        "  bot = random.choice(op)\n",
        "  print(\"El bot ha seleccionado\", bot)\n",
        "  if user == bot:\n",
        "      print(\"Empate, los dos seleccionaron\", user)\n",
        "  elif user == \"piedra\" and bot ==\"tijera\":\n",
        "      print(\"Ganaste chaval\", user,\"gana a\", bot)\n",
        "  elif user == \"tijera\" and bot ==\"papel\":\n",
        "      print(\"Ganaste chaval\", user,\"gana a\", bot)\n",
        "  elif user == \"papel\" and bot ==\"piedra\":\n",
        "      print(\"Ganaste chaval\", user,\"gana a\", bot)\n",
        "  else:\n",
        "      print(\"Perdiste\", user,\"pierde con\",bot)\n"
      ],
      "metadata": {
        "id": "gkcTEWMuo3hg"
      },
      "execution_count": null,
      "outputs": []
    },
    {
      "cell_type": "markdown",
      "source": [
        "In: Para comprobar si un valor está presente en una lista, tupla, etc. Devuelve True si el valor está presente, de lo contrario devuelve False"
      ],
      "metadata": {
        "id": "GQQHAcdOo4nA"
      }
    },
    {
      "cell_type": "code",
      "source": [
        "frutas = [\"manzana\", \"banana\", \"melon\"]\n",
        "\n",
        "if \"banana\" in frutas:\n",
        "  print(\"Banana esta en la lista de frutas\")\n"
      ],
      "metadata": {
        "id": "vVqsomPfo4V4"
      },
      "execution_count": null,
      "outputs": []
    },
    {
      "cell_type": "markdown",
      "source": [
        "Is: Se usa para probar si las dos variables se refieren al mismo objeto. Devuelve True si los objetos son idénticos y False si no"
      ],
      "metadata": {
        "id": "TLp40eHyo93q"
      }
    },
    {
      "cell_type": "code",
      "source": [
        "lista1 = [10, 20, 30, 40, 50]\n",
        "lista2 = [10, 20, 30, 40, 50]\n",
        " \n",
        "if (lista1 is lisat2):\n",
        "    print(\"las listas son iguales\")\n",
        "else:\n",
        "    print(\"las listas tienen components diferentes\")\n"
      ],
      "metadata": {
        "id": "pSDuwjyJo_Ls"
      },
      "execution_count": null,
      "outputs": []
    },
    {
      "cell_type": "markdown",
      "source": [
        "Lambda: Para crear una función anónima"
      ],
      "metadata": {
        "id": "4WqJVBvlpBa8"
      }
    },
    {
      "cell_type": "code",
      "source": [
        "suma_de_cinco = lambda num : num+5\n",
        "\n",
        "print(suma_de_cinco(45))\n"
      ],
      "metadata": {
        "id": "fmEEXO3RpDBP"
      },
      "execution_count": null,
      "outputs": []
    },
    {
      "cell_type": "markdown",
      "source": [
        "Nonlocal: Para declarar una variable no local"
      ],
      "metadata": {
        "id": "oqkue0LJpEne"
      }
    },
    {
      "cell_type": "code",
      "source": [
        "def outerfunc():\n",
        "    a = 10\n",
        "    b = 20\n",
        "    \n",
        "    def innerfunc():\n",
        "        nonlocal a\n",
        "        a = 100 \n",
        "        b = 200  \n",
        "                 \n",
        "    innerfunc()\n",
        "    # printing the value of a and b\n",
        "    print(\"a  : \", a)\n",
        "    print(\"b : \", b)\n"
      ],
      "metadata": {
        "id": "ffMn-QE1pGOz"
      },
      "execution_count": null,
      "outputs": []
    },
    {
      "cell_type": "markdown",
      "source": [
        "Not: Operador lógico"
      ],
      "metadata": {
        "id": "gSO5V-GApIzh"
      }
    },
    {
      "cell_type": "code",
      "source": [
        "import random\n",
        "op = [\"piedra\", \"tijera\", \"papel\",\"lagarto\",\"spock\",\"heavy\",\"papa\"]\n",
        "\n",
        "while True:\n",
        "  user = input(\"Elige: piedra, papel, tijera, lagarto, spock, heavy,papa\").lower()\n",
        "  if user not in op:\n",
        "    print(\"No esta en la opciones\")\n"
      ],
      "metadata": {
        "id": "ujG1xTXnpIjQ"
      },
      "execution_count": null,
      "outputs": []
    },
    {
      "cell_type": "markdown",
      "source": [
        "Or: Operador lógico"
      ],
      "metadata": {
        "id": "5aThqdUgpMrp"
      }
    },
    {
      "cell_type": "code",
      "source": [
        "a = 50\n",
        "b = 60\n",
        "c = 70\n",
        "d = 80\n",
        "\n",
        "print(a>b or b>c or d>c)\n"
      ],
      "metadata": {
        "id": "U8sOuppGpMaz"
      },
      "execution_count": null,
      "outputs": []
    },
    {
      "cell_type": "markdown",
      "source": [
        "Pass: Es una declaración nula en Python. No pasa nada cuando se ejecuta. Se utiliza como marcador de posición."
      ],
      "metadata": {
        "id": "macXRJQMpMGa"
      }
    },
    {
      "cell_type": "code",
      "source": [
        "def myfunction():\n",
        "  pass\n"
      ],
      "metadata": {
        "id": "2ciF60AjpRLA"
      },
      "execution_count": null,
      "outputs": []
    },
    {
      "cell_type": "markdown",
      "source": [
        "Raise: Se usa para crear excepciones, qué hacer cuando ocurre una excepción, igual que ‘except y ‘try’"
      ],
      "metadata": {
        "id": "B7a8UKL6pTTX"
      }
    },
    {
      "cell_type": "code",
      "source": [
        "x = -1\n",
        "\n",
        "if x < 0:\n",
        "  raise Exception(\"No se pueden leer los numeros debajos de los 0\")\n"
      ],
      "metadata": {
        "id": "6EjpzKIFpV8G"
      },
      "execution_count": null,
      "outputs": []
    },
    {
      "cell_type": "markdown",
      "source": [
        "Try: Se usa para crear excepciones, qué hacer cuando ocurre una excepción, igual que ‘raise’ y ‘except"
      ],
      "metadata": {
        "id": "Owz3mFH2pYB-"
      }
    },
    {
      "cell_type": "code",
      "source": [
        "try:\n",
        "  x > 3\n",
        "except:\n",
        "  print(\"Error el numero es menor de 3 uwu\")\n"
      ],
      "metadata": {
        "id": "uamtjm7jpbTJ"
      },
      "execution_count": null,
      "outputs": []
    },
    {
      "cell_type": "markdown",
      "source": [
        "While: Se usa para realizar bucles."
      ],
      "metadata": {
        "id": "RxFSMrL5paSg"
      }
    },
    {
      "cell_type": "code",
      "source": [
        "while True:\n",
        "  user = input(\"Elige: piedra, papel o tijera\").lower()\n",
        "  if user not in op:\n",
        "    print(\"No esta en la opciones\")\n",
        "    continue \n",
        "  bot = random.choice(op)\n",
        "  print(\"El bot ha seleccionado\", bot)\n",
        "  if user == bot:\n",
        "      print(\"Empate, los dos seleccionaron\", user)\n",
        "  elif user == \"piedra\" and bot ==\"tijera\":\n",
        "      print(\"Ganaste chaval\", user,\"gana a\", bot)\n",
        "  elif user == \"tijera\" and bot ==\"papel\":\n",
        "      print(\"Ganaste chaval\", user,\"gana a\", bot)\n",
        "  elif user == \"papel\" and bot ==\"piedra\":\n",
        "      print(\"Ganaste chaval\", user,\"gana a\", bot)\n",
        "  else:\n",
        "      print(\"Perdiste\", user,\"pierde con\",bot)\n"
      ],
      "metadata": {
        "id": "2V6p_Luspf38"
      },
      "execution_count": null,
      "outputs": []
    },
    {
      "cell_type": "markdown",
      "source": [
        "With: Se usa para simplificar el manejo de excepciones"
      ],
      "metadata": {
        "id": "Zl2GKotfpiFf"
      }
    },
    {
      "cell_type": "markdown",
      "source": [
        "Yield: Se usa dentro de una función al igual que ‘return’, salvo que ‘yield’ devuelve un generador."
      ],
      "metadata": {
        "id": "94Dxu-8npl5a"
      }
    },
    {
      "cell_type": "code",
      "source": [
        "\n",
        "def func():\n",
        "    yield 2\n",
        "    yield 4\n",
        "    yield 6\n",
        "    yield 8\n",
        "for x in func():  \n",
        "    print(x)\n"
      ],
      "metadata": {
        "id": "frzdOEMgpjao"
      },
      "execution_count": null,
      "outputs": []
    },
    {
      "cell_type": "markdown",
      "source": [
        "Return: Se usa dentro de una función para salir y devolver un valor."
      ],
      "metadata": {
        "id": "IcP_fVFhpocs"
      }
    },
    {
      "cell_type": "code",
      "source": [
        "def myfunction():\n",
        "  return 3+3\n",
        "\n",
        "print(myfunction())\n"
      ],
      "metadata": {
        "id": "gaeGCDwNpoTD"
      },
      "execution_count": null,
      "outputs": []
    }
  ]
}