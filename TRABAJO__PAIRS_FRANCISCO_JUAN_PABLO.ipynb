{
  "nbformat": 4,
  "nbformat_minor": 0,
  "metadata": {
    "colab": {
      "name": "TRABAJO _PAIRS FRANCISCO JUAN PABLO",
      "provenance": []
    },
    "kernelspec": {
      "name": "python3",
      "display_name": "Python 3"
    },
    "language_info": {
      "name": "python"
    }
  },
  "cells": [
    {
      "cell_type": "markdown",
      "source": [
        "##TRABAJO DE JUAN PABLO Y FRANCISCO\n"
      ],
      "metadata": {
        "id": "69tkJ5dzrCyb"
      }
    },
    {
      "cell_type": "code",
      "execution_count": 36,
      "metadata": {
        "colab": {
          "base_uri": "https://localhost:8080/"
        },
        "id": "Ja5eKq_SlNYa",
        "outputId": "a543ebf3-a247-4f1b-b9df-405a185d8de0"
      },
      "outputs": [
        {
          "output_type": "stream",
          "name": "stdout",
          "text": [
            "su merced meta un número: 20\n",
            "NO es primo\n"
          ]
        }
      ],
      "source": [
        "##determinAR SI ES PRIMO O NO\n",
        "def primo(num):\n",
        "    if num == 0 or num == 1 or num == 4:\n",
        "        return False\n",
        "    for x in range(2, int(num/2)):\n",
        "        if num % x == 0:\n",
        "            return False\n",
        "    return True\n",
        "num = int(input(\"su merced meta un número: \"))\n",
        "es_primo = primo(num)\n",
        "if es_primo:\n",
        "\tprint(\"Es primo\")\n",
        "else:\n",
        "\tprint(\"NO es primo\")\n"
      ]
    },
    {
      "cell_type": "code",
      "source": [
        "##NUMEROS DE FIBONACCI HASTA EL 30\n",
        "def fibonacci(num):\n",
        "\n",
        "    if num > 1:\n",
        "        return fibonacci(num-1) + fibonacci(num-2)\n",
        "    return num\n",
        "for i in range(29):\n",
        "    print(fibonacci(i))"
      ],
      "metadata": {
        "id": "LG9kMssQpDP4"
      },
      "execution_count": null,
      "outputs": []
    },
    {
      "cell_type": "code",
      "source": [
        "##factorial\n",
        "num=int(input('ingrese el nunmero que quiere saber el factorial! '))\n",
        "fact = 1\n",
        "  \n",
        "for i in range(1,num+1): \n",
        "    fact = fact * i \n",
        "     \n",
        "\n",
        "print('el factorial de ',num, 'es:')\n",
        "print(fact)"
      ],
      "metadata": {
        "id": "9zG3zSM3sZBU"
      },
      "execution_count": null,
      "outputs": []
    },
    {
      "cell_type": "code",
      "source": [
        "## factorial de 10 numeros diferentes\n",
        "for n in range (1,11):\n",
        "  print(f'tabala del{n}')\n",
        "  num=int(input('ingrese el nunmero que quiere saber el factorial! '))\n",
        "  for i in range (1,11):\n",
        "    print(n,'x',i,'=',n*i)\n"
      ],
      "metadata": {
        "id": "W3oR4Oq8wkkg"
      },
      "execution_count": null,
      "outputs": []
    },
    {
      "cell_type": "code",
      "source": [
        "suma=0\n",
        "for i in range (100,0,-10):\n",
        "   suma=suma+i\n",
        "\n",
        "   print(suma)"
      ],
      "metadata": {
        "colab": {
          "base_uri": "https://localhost:8080/"
        },
        "id": "QLBS4tdQzCVL",
        "outputId": "90564b2a-80cd-4041-ec10-6b1ab9a0c15e"
      },
      "execution_count": 49,
      "outputs": [
        {
          "output_type": "stream",
          "name": "stdout",
          "text": [
            "100\n",
            "190\n",
            "270\n",
            "340\n",
            "400\n",
            "450\n",
            "490\n",
            "520\n",
            "540\n",
            "550\n"
          ]
        }
      ]
    }
  ]
}