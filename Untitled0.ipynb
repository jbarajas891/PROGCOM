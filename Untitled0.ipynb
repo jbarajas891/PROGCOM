{
  "nbformat": 4,
  "nbformat_minor": 0,
  "metadata": {
    "colab": {
      "name": "Untitled0.ipynb",
      "provenance": []
    },
    "kernelspec": {
      "name": "python3",
      "display_name": "Python 3"
    },
    "language_info": {
      "name": "python"
    }
  },
  "cells": [
    {
      "cell_type": "code",
      "execution_count": 35,
      "metadata": {
        "colab": {
          "base_uri": "https://localhost:8080/"
        },
        "id": "fwYWSeHFd1EA",
        "outputId": "fff7cb74-dec3-4ea0-ba90-ad12867ec77f"
      },
      "outputs": [
        {
          "output_type": "stream",
          "name": "stdout",
          "text": [
            " su merced ingrese  un numero numerador 1\n",
            " su merced ingrese  un numero denominador 2\n",
            "\n",
            "0.5  es inexacta \n"
          ]
        }
      ],
      "source": [
        "j=int(input(' su merced ingrese  un numero numerador '))\n",
        "p=int(input(' su merced ingrese  un numero denominador '))\n",
        "b= j/p\n",
        "\n",
        "\n",
        "if j%p==0:\n",
        "  print(str(b),' es exacta ')\n",
        "else:\n",
        "  print(str(b),' es inexacta ')\n",
        "\n",
        "\n",
        "\n",
        "\n",
        "\n",
        "\n"
      ]
    },
    {
      "cell_type": "code",
      "source": [
        "j=int(input('su merced ingrese  un numero '))\n",
        "p=int(input('su merced ingrese  un numero '))\n",
        "b= j/p\n",
        "if j%p==0:\n",
        "  print(str(j)+'y'+str(p)+'son multiplos ')\n",
        "else:\n",
        "  print(str(j)+' y '+str(p)+' no son multiplos ')\n"
      ],
      "metadata": {
        "colab": {
          "base_uri": "https://localhost:8080/"
        },
        "id": "4UixZ2Y3qGxr",
        "outputId": "25ba5612-66f1-474f-dc38-968bdbec2074"
      },
      "execution_count": 24,
      "outputs": [
        {
          "output_type": "stream",
          "name": "stdout",
          "text": [
            "su merced ingrese  un numero numerador3\n",
            "su merced ingrese  un numero denominador5\n",
            "3 y 5 noson multiplos \n"
          ]
        }
      ]
    },
    {
      "cell_type": "code",
      "source": [
        "a=int(input(' su merced ingrese la  1 edad '))\n",
        "b=int(input(' su merced ingrese la  2 edad '))\n",
        "c=int(input(' su merced ingrese la  3 edad '))\n",
        "\n",
        "if a>b>c:\n",
        "  print(str(a),'es el hermano mayor ',str(b),'el hermano del medio',str(c),'el hermando menor')\n",
        "if a>c>b:\n",
        "  print(str(a),'es el hermano mayor',str(c),'el hermano del medio',str(b),'el hermando menor')\n",
        "if b>a>c:\n",
        "  print(str(b),'es el hermano mayor ',str(a),'el hermano del medio',str(c),'el hermando menor')\n",
        "if b>c>a:\n",
        "  print(str(b),'es el hermano mayor ',str(c),'el hermano del medio',str(a),'el hermando menor')\n",
        "if c>b>a:\n",
        "  print(str(c),'es el hermano mayor ',str(b),'el hermano del medio',str(a),'el hermando menor')\n",
        "if c>a>b:\n",
        "  print(str(c),'es el hermano mayor ',str(a),'el hermano del medio',str(b),'el hermando menor')\n",
        "else:\n",
        "  print('los hermanos tienen la msma edad')\n",
        "  \n"
      ],
      "metadata": {
        "colab": {
          "base_uri": "https://localhost:8080/"
        },
        "id": "dNcwepnavEcD",
        "outputId": "b66e49c4-49f9-4085-a43c-c769508bc313"
      },
      "execution_count": 49,
      "outputs": [
        {
          "output_type": "stream",
          "name": "stdout",
          "text": [
            " su merced ingrese la  1 edad 5\n",
            " su merced ingrese la  2 edad 5\n",
            " su merced ingrese la  3 edad 5\n",
            "los hermanos tienen la msma edad\n"
          ]
        }
      ]
    }
  ]
}