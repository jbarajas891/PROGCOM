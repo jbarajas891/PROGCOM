{
  "nbformat": 4,
  "nbformat_minor": 0,
  "metadata": {
    "colab": {
      "name": "Untitled0.ipynb",
      "provenance": []
    },
    "kernelspec": {
      "name": "python3",
      "display_name": "Python 3"
    },
    "language_info": {
      "name": "python"
    }
  },
  "cells": [
    {
      "cell_type": "code",
      "execution_count": null,
      "metadata": {
        "colab": {
          "base_uri": "https://localhost:8080/"
        },
        "id": "fwYWSeHFd1EA",
        "outputId": "fff7cb74-dec3-4ea0-ba90-ad12867ec77f"
      },
      "outputs": [
        {
          "output_type": "stream",
          "name": "stdout",
          "text": [
            " su merced ingrese  un numero numerador 1\n",
            " su merced ingrese  un numero denominador 2\n",
            "\n",
            "0.5  es inexacta \n"
          ]
        }
      ],
      "source": [
        "j=int(input(' su merced ingrese  un numero numerador '))\n",
        "p=int(input(' su merced ingrese  un numero denominador '))\n",
        "b= j/p\n",
        "\n",
        "\n",
        "if j%p==0:\n",
        "  print(str(b),' es exacta ')\n",
        "else:\n",
        "  print(str(b),' es inexacta ')\n",
        "\n",
        "\n",
        "\n",
        "\n",
        "\n",
        "\n"
      ]
    },
    {
      "cell_type": "code",
      "source": [
        "j=int(input('su merced ingrese  un numero '))\n",
        "p=int(input('su merced ingrese  un numero '))\n",
        "b= j/p\n",
        "if j%p==0:\n",
        "  print(str(j)+'y'+str(p)+'son multiplos ')\n",
        "else:\n",
        "  print(str(j)+' y '+str(p)+' no son multiplos ')\n"
      ],
      "metadata": {
        "colab": {
          "base_uri": "https://localhost:8080/"
        },
        "id": "4UixZ2Y3qGxr",
        "outputId": "25ba5612-66f1-474f-dc38-968bdbec2074"
      },
      "execution_count": null,
      "outputs": [
        {
          "output_type": "stream",
          "name": "stdout",
          "text": [
            "su merced ingrese  un numero numerador3\n",
            "su merced ingrese  un numero denominador5\n",
            "3 y 5 noson multiplos \n"
          ]
        }
      ]
    },
    {
      "cell_type": "code",
      "source": [
        "a=int(input(' su merced ingrese la  1 edad '))\n",
        "b=int(input(' su merced ingrese la  2 edad '))\n",
        "c=int(input(' su merced ingrese la  3 edad '))\n",
        "\n",
        "if a>b>c:\n",
        "  print(str(a),'es el hermano mayor ',str(b),'el hermano del medio',str(c),'el hermando menor')\n",
        "if a>c>b:\n",
        "  print(str(a),'es el hermano mayor',str(c),'el hermano del medio',str(b),'el hermando menor')\n",
        "if b>a>c:\n",
        "  print(str(b),'es el hermano mayor ',str(a),'el hermano del medio',str(c),'el hermando menor')\n",
        "if b>c>a:\n",
        "  print(str(b),'es el hermano mayor ',str(c),'el hermano del medio',str(a),'el hermando menor')\n",
        "if c>b>a:\n",
        "  print(str(c),'es el hermano mayor ',str(b),'el hermano del medio',str(a),'el hermando menor')\n",
        "if c>a>b:\n",
        "  print(str(c),'es el hermano mayor ',str(a),'el hermano del medio',str(b),'el hermando menor')\n",
        "else:\n",
        "  print('los hermanos tienen la msma edad')\n",
        "  \n"
      ],
      "metadata": {
        "colab": {
          "base_uri": "https://localhost:8080/"
        },
        "id": "dNcwepnavEcD",
        "outputId": "b66e49c4-49f9-4085-a43c-c769508bc313"
      },
      "execution_count": null,
      "outputs": [
        {
          "output_type": "stream",
          "name": "stdout",
          "text": [
            " su merced ingrese la  1 edad 5\n",
            " su merced ingrese la  2 edad 5\n",
            " su merced ingrese la  3 edad 5\n",
            "los hermanos tienen la msma edad\n"
          ]
        }
      ]
    },
    {
      "cell_type": "code",
      "source": [
        "numero=int (input('su merced ingrese el valor'))\n",
        "uni=numero%10\n",
        "desce=(numero%100-numero%10)//10\n",
        "cen=(numero%1000-numero%100)//100\n",
        "print('las unidades son= ',repr(uni))\n",
        "print('las decenas  es =', repr(desce))\n",
        "print('las centenas es =',repr(cen))\n",
        "\n",
        "\n"
      ],
      "metadata": {
        "colab": {
          "base_uri": "https://localhost:8080/"
        },
        "id": "vv45gxnozRTu",
        "outputId": "4dfc4ffe-dec7-419c-8f11-0ef6e21e6163"
      },
      "execution_count": 3,
      "outputs": [
        {
          "output_type": "stream",
          "name": "stdout",
          "text": [
            "su merced ingrese el valor1234\n",
            "las unidades son=  4\n",
            "las decenas  es = 3\n",
            "las centenas es = 2\n"
          ]
        }
      ]
    },
    {
      "cell_type": "code",
      "source": [
        "plb=input('su merced ingrese numero ')\n",
        "if str(plb)==str(plb)[::-1]:\n",
        "  print('es un palindromo')\n",
        "else:\n",
        "  print('no es un palindromo')"
      ],
      "metadata": {
        "colab": {
          "base_uri": "https://localhost:8080/"
        },
        "id": "Vmx2PmOL03VS",
        "outputId": "3684e61f-51c8-4c5b-e6b6-71dd7d5a2a8d"
      },
      "execution_count": 4,
      "outputs": [
        {
          "output_type": "stream",
          "name": "stdout",
          "text": [
            "su merced ingrese su palabra 1\n",
            "es un palindromo\n"
          ]
        }
      ]
    },
    {
      "cell_type": "code",
      "source": [
        "def leapyear(ano):\n",
        "  if ano % 4==0:\n",
        "    if ano  %100 ==0:\n",
        "      if ano %400 ==0:\n",
        "        print('es biciesto')\n",
        "      else:\n",
        "        print('no es biciesto')\n",
        "    else:\n",
        "      print('es biciesto')\n",
        "  else:\n",
        "      print('no es biciesto')  \n",
        "\n",
        "ano = int(input('su merced ingrese el año'))\n",
        "leapyear(ano)"
      ],
      "metadata": {
        "colab": {
          "base_uri": "https://localhost:8080/"
        },
        "id": "nXYQbAZw1lUG",
        "outputId": "8c26c354-0167-49a3-c396-003f52c823aa"
      },
      "execution_count": 14,
      "outputs": [
        {
          "output_type": "stream",
          "name": "stdout",
          "text": [
            "su merced ingrese el año2020\n",
            "es biciesto\n"
          ]
        }
      ]
    },
    {
      "cell_type": "code",
      "source": [
        "import datetime\n",
        "def edad(nacimiento):\n",
        "  today =datetime.date.date.today()\n",
        "  if today < nacimiento:\n",
        "    print('su fecha de nacimiento esta mal')\n",
        "  else:\n",
        "    alo =nacimiento.year\n",
        "    mes =nacimiento.month\n",
        "    dia=nacimiento.day\n",
        "    fecha =nacimiento\n",
        "    edad=0\n",
        "    while fecha< today:\n",
        "      edad+=1\n",
        "      fecha = datetime.date(alo+edad,mes,dia)\n",
        "      print('MI EDAD ES DE :%s'% (edad-1))\n",
        "      edad(datetime.date(2004,11,20))\n",
        "\n",
        "\n",
        "\n"
      ],
      "metadata": {
        "id": "01XozDUn4Hte"
      },
      "execution_count": 27,
      "outputs": []
    },
    {
      "cell_type": "code",
      "source": [
        ""
      ],
      "metadata": {
        "id": "avrhCkrE4p2P"
      },
      "execution_count": null,
      "outputs": []
    }
  ]
}