{
  "nbformat": 4,
  "nbformat_minor": 0,
  "metadata": {
    "colab": {
      "provenance": []
    },
    "kernelspec": {
      "name": "python3",
      "display_name": "Python 3"
    },
    "language_info": {
      "name": "python"
    }
  },
  "cells": [
    {
      "cell_type": "markdown",
      "source": [
        "#errores en python"
      ],
      "metadata": {
        "id": "Ayz7xMQSQcab"
      }
    },
    {
      "cell_type": "code",
      "source": [
        "x=int (input ('ingrese un numero '))\n",
        "  if  x>=0:\n",
        "  print(x,'es un numero positivo')\n",
        "\n",
        "  else:\n",
        "    print('es negativo')"
      ],
      "metadata": {
        "colab": {
          "base_uri": "https://localhost:8080/",
          "height": 130
        },
        "id": "9jJLnCxvQfwB",
        "outputId": "6a821509-6650-4f65-9e03-b50a69f0b1d9"
      },
      "execution_count": 12,
      "outputs": [
        {
          "output_type": "error",
          "ename": "IndentationError",
          "evalue": "ignored",
          "traceback": [
            "\u001b[0;36m  File \u001b[0;32m\"<ipython-input-12-4963941d38f6>\"\u001b[0;36m, line \u001b[0;32m2\u001b[0m\n\u001b[0;31m    if  x>=0:\u001b[0m\n\u001b[0m    ^\u001b[0m\n\u001b[0;31mIndentationError\u001b[0m\u001b[0;31m:\u001b[0m unexpected indent\n"
          ]
        }
      ]
    },
    {
      "cell_type": "markdown",
      "source": [
        "Hay un error de indentación, lo cual dice que hay un espacio hacia la derecha donde no deberían,en el if empieza el error. solo se soluciona si se borran esos espacio en el if y en el else\n"
      ],
      "metadata": {
        "id": "FTcsfMONQ-sU"
      }
    },
    {
      "cell_type": "code",
      "source": [
        "x= int(input('ingrese un numero'))\n",
        "if x>0\n",
        "  print(x,'es un numero positivo ')\n",
        "elif x==0:\n",
        "  print(str(x)+' es cero ')\n",
        "else: \n",
        "    print(f'{x}es un numero es positivo')"
      ],
      "metadata": {
        "colab": {
          "base_uri": "https://localhost:8080/",
          "height": 130
        },
        "id": "Yavhgc8gTptu",
        "outputId": "7eeaa480-2bae-4969-f25a-e2854c16ae7f"
      },
      "execution_count": 14,
      "outputs": [
        {
          "output_type": "error",
          "ename": "SyntaxError",
          "evalue": "ignored",
          "traceback": [
            "\u001b[0;36m  File \u001b[0;32m\"<ipython-input-14-7db2bbd34cd6>\"\u001b[0;36m, line \u001b[0;32m2\u001b[0m\n\u001b[0;31m    if x>0\u001b[0m\n\u001b[0m          ^\u001b[0m\n\u001b[0;31mSyntaxError\u001b[0m\u001b[0;31m:\u001b[0m invalid syntax\n"
          ]
        }
      ]
    },
    {
      "cell_type": "markdown",
      "source": [
        "error de sintaxis,quiere decir que esta mal escrito el código, en la parte del if le falta (:) para que esté bien escrito\n"
      ],
      "metadata": {
        "id": "QXuAkPcGVdGN"
      }
    },
    {
      "cell_type": "code",
      "source": [
        "\n",
        "print(\n",
        "    '//////con esto convertiras de grados a radianes\\\\\\\\\\\\'\n",
        ")\n",
        "grados= (input('ingrese e valor en grados para convertir a radianes'))\n",
        "radianes = (grados *(3.141516/180))\n",
        "print('su valor en grados :',grados,' es ', radianes )"
      ],
      "metadata": {
        "colab": {
          "base_uri": "https://localhost:8080/",
          "height": 252
        },
        "id": "Bfl6WlPQV0y3",
        "outputId": "ffb1496c-e182-4c80-be8a-6792e89f6127"
      },
      "execution_count": 22,
      "outputs": [
        {
          "name": "stdout",
          "output_type": "stream",
          "text": [
            "//////con esto convertiras de grados a radianes\\\\\\\n",
            "ingrese e valor en grados para convertir a radianes10\n"
          ]
        },
        {
          "output_type": "error",
          "ename": "TypeError",
          "evalue": "ignored",
          "traceback": [
            "\u001b[0;31m---------------------------------------------------------------------------\u001b[0m",
            "\u001b[0;31mTypeError\u001b[0m                                 Traceback (most recent call last)",
            "\u001b[0;32m<ipython-input-22-e847874da8e0>\u001b[0m in \u001b[0;36m<module>\u001b[0;34m\u001b[0m\n\u001b[1;32m      3\u001b[0m )\n\u001b[1;32m      4\u001b[0m \u001b[0mgrados\u001b[0m\u001b[0;34m=\u001b[0m \u001b[0;34m(\u001b[0m\u001b[0minput\u001b[0m\u001b[0;34m(\u001b[0m\u001b[0;34m'ingrese e valor en grados para convertir a radianes'\u001b[0m\u001b[0;34m)\u001b[0m\u001b[0;34m)\u001b[0m\u001b[0;34m\u001b[0m\u001b[0;34m\u001b[0m\u001b[0m\n\u001b[0;32m----> 5\u001b[0;31m \u001b[0mradianes\u001b[0m \u001b[0;34m=\u001b[0m \u001b[0;34m(\u001b[0m\u001b[0mgrados\u001b[0m \u001b[0;34m*\u001b[0m\u001b[0;34m(\u001b[0m\u001b[0;36m3.141516\u001b[0m\u001b[0;34m/\u001b[0m\u001b[0;36m180\u001b[0m\u001b[0;34m)\u001b[0m\u001b[0;34m)\u001b[0m\u001b[0;34m\u001b[0m\u001b[0;34m\u001b[0m\u001b[0m\n\u001b[0m\u001b[1;32m      6\u001b[0m \u001b[0mprint\u001b[0m\u001b[0;34m(\u001b[0m\u001b[0;34m'su valor en grados :'\u001b[0m\u001b[0;34m,\u001b[0m\u001b[0mgrados\u001b[0m\u001b[0;34m,\u001b[0m\u001b[0;34m' es '\u001b[0m\u001b[0;34m,\u001b[0m \u001b[0mradianes\u001b[0m \u001b[0;34m)\u001b[0m\u001b[0;34m\u001b[0m\u001b[0;34m\u001b[0m\u001b[0m\n",
            "\u001b[0;31mTypeError\u001b[0m: can't multiply sequence by non-int of type 'float'"
          ]
        }
      ]
    },
    {
      "cell_type": "markdown",
      "source": [
        "no se puede multiplicar secuencia por non-int de tipo 'float'.Esto quiere decir que no se ha definido las variables  ni se ha iniciado una de las variables. entonces lo que hacemos es decir radianes=0. typeError se genera siempre que se realiza una operación en un tipo de objeto incorrecto / no admitido.además  corregimos grados= float(input('ingrese e valor en grados para convertir a radianes'))\n",
        "radianes = float(grados *(3.141516/180))\n"
      ],
      "metadata": {
        "id": "PZUYH9azXX-T"
      }
    },
    {
      "cell_type": "code",
      "source": [
        "def factorial(n):\n",
        "    if n == 0 or n == 1:\n",
        "        return 1\n",
        "    return n * factorial(n-1)\n",
        "    # n = 3\n",
        "    # 3! = 3 * 2!\n",
        "    # 2! = 2 * 1!\n",
        "    # 1! = 1  Base\n",
        "if __name__ == '__main__':\n",
        "    f = factorial(2000)\n",
        "    print(f)"
      ],
      "metadata": {
        "colab": {
          "base_uri": "https://localhost:8080/",
          "height": 397
        },
        "id": "Nf73TXqtYLpw",
        "outputId": "fad5d8d5-29bb-404e-f4d5-3d466a370fd4"
      },
      "execution_count": 23,
      "outputs": [
        {
          "output_type": "error",
          "ename": "RecursionError",
          "evalue": "ignored",
          "traceback": [
            "\u001b[0;31m---------------------------------------------------------------------------\u001b[0m",
            "\u001b[0;31mRecursionError\u001b[0m                            Traceback (most recent call last)",
            "\u001b[0;32m<ipython-input-23-bb2217c0db65>\u001b[0m in \u001b[0;36m<module>\u001b[0;34m\u001b[0m\n\u001b[1;32m      8\u001b[0m     \u001b[0;31m# 1! = 1  Base\u001b[0m\u001b[0;34m\u001b[0m\u001b[0;34m\u001b[0m\u001b[0;34m\u001b[0m\u001b[0m\n\u001b[1;32m      9\u001b[0m \u001b[0;32mif\u001b[0m \u001b[0m__name__\u001b[0m \u001b[0;34m==\u001b[0m \u001b[0;34m'__main__'\u001b[0m\u001b[0;34m:\u001b[0m\u001b[0;34m\u001b[0m\u001b[0;34m\u001b[0m\u001b[0m\n\u001b[0;32m---> 10\u001b[0;31m     \u001b[0mf\u001b[0m \u001b[0;34m=\u001b[0m \u001b[0mfactorial\u001b[0m\u001b[0;34m(\u001b[0m\u001b[0;36m2000\u001b[0m\u001b[0;34m)\u001b[0m\u001b[0;34m\u001b[0m\u001b[0;34m\u001b[0m\u001b[0m\n\u001b[0m\u001b[1;32m     11\u001b[0m     \u001b[0mprint\u001b[0m\u001b[0;34m(\u001b[0m\u001b[0mf\u001b[0m\u001b[0;34m)\u001b[0m\u001b[0;34m\u001b[0m\u001b[0;34m\u001b[0m\u001b[0m\n",
            "\u001b[0;32m<ipython-input-23-bb2217c0db65>\u001b[0m in \u001b[0;36mfactorial\u001b[0;34m(n)\u001b[0m\n\u001b[1;32m      2\u001b[0m     \u001b[0;32mif\u001b[0m \u001b[0mn\u001b[0m \u001b[0;34m==\u001b[0m \u001b[0;36m0\u001b[0m \u001b[0;32mor\u001b[0m \u001b[0mn\u001b[0m \u001b[0;34m==\u001b[0m \u001b[0;36m1\u001b[0m\u001b[0;34m:\u001b[0m\u001b[0;34m\u001b[0m\u001b[0;34m\u001b[0m\u001b[0m\n\u001b[1;32m      3\u001b[0m         \u001b[0;32mreturn\u001b[0m \u001b[0;36m1\u001b[0m\u001b[0;34m\u001b[0m\u001b[0;34m\u001b[0m\u001b[0m\n\u001b[0;32m----> 4\u001b[0;31m     \u001b[0;32mreturn\u001b[0m \u001b[0mn\u001b[0m \u001b[0;34m*\u001b[0m \u001b[0mfactorial\u001b[0m\u001b[0;34m(\u001b[0m\u001b[0mn\u001b[0m\u001b[0;34m-\u001b[0m\u001b[0;36m1\u001b[0m\u001b[0;34m)\u001b[0m\u001b[0;34m\u001b[0m\u001b[0;34m\u001b[0m\u001b[0m\n\u001b[0m\u001b[1;32m      5\u001b[0m     \u001b[0;31m# n = 3\u001b[0m\u001b[0;34m\u001b[0m\u001b[0;34m\u001b[0m\u001b[0;34m\u001b[0m\u001b[0m\n\u001b[1;32m      6\u001b[0m     \u001b[0;31m# 3! = 3 * 2!\u001b[0m\u001b[0;34m\u001b[0m\u001b[0;34m\u001b[0m\u001b[0;34m\u001b[0m\u001b[0m\n",
            "... last 1 frames repeated, from the frame below ...\n",
            "\u001b[0;32m<ipython-input-23-bb2217c0db65>\u001b[0m in \u001b[0;36mfactorial\u001b[0;34m(n)\u001b[0m\n\u001b[1;32m      2\u001b[0m     \u001b[0;32mif\u001b[0m \u001b[0mn\u001b[0m \u001b[0;34m==\u001b[0m \u001b[0;36m0\u001b[0m \u001b[0;32mor\u001b[0m \u001b[0mn\u001b[0m \u001b[0;34m==\u001b[0m \u001b[0;36m1\u001b[0m\u001b[0;34m:\u001b[0m\u001b[0;34m\u001b[0m\u001b[0;34m\u001b[0m\u001b[0m\n\u001b[1;32m      3\u001b[0m         \u001b[0;32mreturn\u001b[0m \u001b[0;36m1\u001b[0m\u001b[0;34m\u001b[0m\u001b[0;34m\u001b[0m\u001b[0m\n\u001b[0;32m----> 4\u001b[0;31m     \u001b[0;32mreturn\u001b[0m \u001b[0mn\u001b[0m \u001b[0;34m*\u001b[0m \u001b[0mfactorial\u001b[0m\u001b[0;34m(\u001b[0m\u001b[0mn\u001b[0m\u001b[0;34m-\u001b[0m\u001b[0;36m1\u001b[0m\u001b[0;34m)\u001b[0m\u001b[0;34m\u001b[0m\u001b[0;34m\u001b[0m\u001b[0m\n\u001b[0m\u001b[1;32m      5\u001b[0m     \u001b[0;31m# n = 3\u001b[0m\u001b[0;34m\u001b[0m\u001b[0;34m\u001b[0m\u001b[0;34m\u001b[0m\u001b[0m\n\u001b[1;32m      6\u001b[0m     \u001b[0;31m# 3! = 3 * 2!\u001b[0m\u001b[0;34m\u001b[0m\u001b[0;34m\u001b[0m\u001b[0;34m\u001b[0m\u001b[0m\n",
            "\u001b[0;31mRecursionError\u001b[0m: maximum recursion depth exceeded in comparison"
          ]
        }
      ]
    },
    {
      "cell_type": "markdown",
      "source": [
        " Excepción Recursion Error.cuando la ejecución del programa excede el límite de recurrencia del intérprete de Python. Dos formas de abordar esta excepción son aumentar el límite de recurrencia de Python o refactorizar el código usando iteración en lugar de recurrencia. \n",
        " lo corregimos\n",
        " ##  sys.setrecursionlimit(4000)\n",
        "   ## f = factorial(2000)\n",
        "  ###  print(f)"
      ],
      "metadata": {
        "id": "3DwVtptgZDNr"
      }
    },
    {
      "cell_type": "code",
      "source": [
        "a=55/0\n",
        "print( a)"
      ],
      "metadata": {
        "colab": {
          "base_uri": "https://localhost:8080/",
          "height": 182
        },
        "id": "iCFnLMBsZ-V-",
        "outputId": "b7507d67-23c9-4c90-f4a0-a492b2cb4286"
      },
      "execution_count": 29,
      "outputs": [
        {
          "output_type": "error",
          "ename": "ZeroDivisionError",
          "evalue": "ignored",
          "traceback": [
            "\u001b[0;31m---------------------------------------------------------------------------\u001b[0m",
            "\u001b[0;31mZeroDivisionError\u001b[0m                         Traceback (most recent call last)",
            "\u001b[0;32m<ipython-input-29-590127122261>\u001b[0m in \u001b[0;36m<module>\u001b[0;34m\u001b[0m\n\u001b[0;32m----> 1\u001b[0;31m \u001b[0ma\u001b[0m\u001b[0;34m=\u001b[0m\u001b[0;36m55\u001b[0m\u001b[0;34m/\u001b[0m\u001b[0;36m0\u001b[0m\u001b[0;34m\u001b[0m\u001b[0;34m\u001b[0m\u001b[0m\n\u001b[0m\u001b[1;32m      2\u001b[0m \u001b[0mprint\u001b[0m\u001b[0;34m(\u001b[0m \u001b[0ma\u001b[0m\u001b[0;34m)\u001b[0m\u001b[0;34m\u001b[0m\u001b[0;34m\u001b[0m\u001b[0m\n",
            "\u001b[0;31mZeroDivisionError\u001b[0m: division by zero"
          ]
        }
      ]
    },
    {
      "cell_type": "markdown",
      "source": [
        " la división por cero crea una excepción y da el error ZeroDivisionError ya que no es posible dividir por cero"
      ],
      "metadata": {
        "id": "YppJC-ZMapXY"
      }
    },
    {
      "cell_type": "code",
      "source": [
        "\n",
        "gru1=[]\n",
        "notas1=[]\n",
        "\n",
        "n1=int(input('numero de estudiantes de curso'))\n",
        "for i in range (0,n1)\n",
        "  estudiante1=input(' nombre de estudiante')\n",
        "  nota1=int(input(' digite nota de cada estudiante'))\n",
        "  gru1.append(estudiante1)\n",
        "  notas1.append(nota1)\n",
        "sumnota=sum(notas1)"
      ],
      "metadata": {
        "colab": {
          "base_uri": "https://localhost:8080/",
          "height": 130
        },
        "id": "wGSD1Ex2aou6",
        "outputId": "5f403e1b-fdd6-4d75-ee74-246792fd0217"
      },
      "execution_count": 48,
      "outputs": [
        {
          "output_type": "error",
          "ename": "SyntaxError",
          "evalue": "ignored",
          "traceback": [
            "\u001b[0;36m  File \u001b[0;32m\"<ipython-input-48-6c5cff603784>\"\u001b[0;36m, line \u001b[0;32m5\u001b[0m\n\u001b[0;31m    for i in range (0,n1)\u001b[0m\n\u001b[0m                         ^\u001b[0m\n\u001b[0;31mSyntaxError\u001b[0m\u001b[0;31m:\u001b[0m invalid syntax\n"
          ]
        }
      ]
    },
    {
      "cell_type": "markdown",
      "source": [
        "error de sintaxis, esta mal escrito el for i in range, le hace falta terminarlo con :"
      ],
      "metadata": {
        "id": "2LcO-kVAcIZf"
      }
    },
    {
      "cell_type": "code",
      "source": [
        "inv={\"combo1\":20000,\n",
        "     \"combo2\":25000,\"combo3\":18000,\n",
        "     \"combo4\":24500,\"jugos naturales\":7000,\n",
        "     \"cerveza\":3500,\"agua\":4000,\"gaseosa\":2500,\n",
        "     \"papas\":3000}\n",
        "print('los productos que tenemos son:combo1:20000,combo2:25000,combo3:18000,combo4:24500,jugos naturales:7000,cerveza:3500,agua:4000,gaseosa:2500,papas:3000')\n",
        "\n",
        "compr=[]\n",
        "tot=[]\n",
        "totalven=[]\n",
        "\n",
        "def caja():\n",
        "    vende = input('cualesproductos se vendieron ').lower()\n",
        "    canti = int(input('cuantos de cada producto '))\n",
        "    while vende!=\"salir\":\n",
        "      if vende in inv:\n",
        "        for i in range(0,canti):\n",
        "          comp.append(vende)\n",
        "        vende=input('necesita algo más, si no escriba salir ')\n",
        "        \n",
        "        canti = int(input('cuantos de cada producto desea '))\n",
        "      else:\n",
        "        vende=(input(\"no tenemos es eproducto \"))\n",
        "\n",
        "\n",
        "caja()\n",
        "print('estos son tus prodctos de la factura ',comp)\n",
        "respcliente=input('quiere comprar algo mas ').lower()\n",
        "if respcliente== \"si\":\n",
        "  caja()\n",
        "  print('esto se vendio el diade hoy ',comp)\n",
        "  for x in comp:\n",
        "    tot.append(inv[x])\n",
        "    horadepagart=sum(tot)\n",
        "else:\n",
        "  for x in comp:\n",
        "    tot.append(inv[x])\n",
        "    horadepagart=sum(tot)\n",
        "print('el total de la venta es ',horadepagart)\n",
        "mascosas=input(print('desea garegar mas cosas')).lower()\n",
        "tot=tot\n",
        "while mascosas!=\"no\":\n",
        "  if mascosas==\"si\":\n",
        "    caja()\n",
        "print('estos son tus prodctos de la factura ',comp)\n",
        "respcliente=input('quiere comprar algo mas').lower()\n",
        "if respcliente== \"si\":\n",
        "  caja()\n",
        "  print('esto se vendio el diade hoy',comp)\n",
        "  for x in comp:\n",
        "    tot.append(inv[x])\n",
        "    horadepagart=sum(tot)\n",
        "else:\n",
        "  for x in comp:\n",
        "    tot.append(inv[x])\n",
        "    horadepagart=sum(tot)\n",
        "print('el total de la venta es ',horadepagart)\n",
        "\n",
        " \n"
      ],
      "metadata": {
        "colab": {
          "base_uri": "https://localhost:8080/",
          "height": 408
        },
        "id": "Yxr6lLy2eMfW",
        "outputId": "99bf48a3-7466-48f9-f352-6e5ca49fc10e"
      },
      "execution_count": 50,
      "outputs": [
        {
          "name": "stdout",
          "output_type": "stream",
          "text": [
            "los productos que tenemos son:combo1:20000,combo2:25000,combo3:18000,combo4:24500,jugos naturales:7000,cerveza:3500,agua:4000,gaseosa:2500,papas:3000\n",
            "cualesproductos se vendieron combo1\n",
            "cuantos de cada producto 2\n"
          ]
        },
        {
          "output_type": "error",
          "ename": "NameError",
          "evalue": "ignored",
          "traceback": [
            "\u001b[0;31m---------------------------------------------------------------------------\u001b[0m",
            "\u001b[0;31mNameError\u001b[0m                                 Traceback (most recent call last)",
            "\u001b[0;32m<ipython-input-50-b485980fdbb0>\u001b[0m in \u001b[0;36m<module>\u001b[0;34m\u001b[0m\n\u001b[1;32m     24\u001b[0m \u001b[0;34m\u001b[0m\u001b[0m\n\u001b[1;32m     25\u001b[0m \u001b[0;34m\u001b[0m\u001b[0m\n\u001b[0;32m---> 26\u001b[0;31m \u001b[0mcaja\u001b[0m\u001b[0;34m(\u001b[0m\u001b[0;34m)\u001b[0m\u001b[0;34m\u001b[0m\u001b[0;34m\u001b[0m\u001b[0m\n\u001b[0m\u001b[1;32m     27\u001b[0m \u001b[0mprint\u001b[0m\u001b[0;34m(\u001b[0m\u001b[0;34m'estos son tus prodctos de la factura '\u001b[0m\u001b[0;34m,\u001b[0m\u001b[0mcomp\u001b[0m\u001b[0;34m)\u001b[0m\u001b[0;34m\u001b[0m\u001b[0;34m\u001b[0m\u001b[0m\n\u001b[1;32m     28\u001b[0m \u001b[0mrespcliente\u001b[0m\u001b[0;34m=\u001b[0m\u001b[0minput\u001b[0m\u001b[0;34m(\u001b[0m\u001b[0;34m'quiere comprar algo mas '\u001b[0m\u001b[0;34m)\u001b[0m\u001b[0;34m.\u001b[0m\u001b[0mlower\u001b[0m\u001b[0;34m(\u001b[0m\u001b[0;34m)\u001b[0m\u001b[0;34m\u001b[0m\u001b[0;34m\u001b[0m\u001b[0m\n",
            "\u001b[0;32m<ipython-input-50-b485980fdbb0>\u001b[0m in \u001b[0;36mcaja\u001b[0;34m()\u001b[0m\n\u001b[1;32m     16\u001b[0m       \u001b[0;32mif\u001b[0m \u001b[0mvende\u001b[0m \u001b[0;32min\u001b[0m \u001b[0minv\u001b[0m\u001b[0;34m:\u001b[0m\u001b[0;34m\u001b[0m\u001b[0;34m\u001b[0m\u001b[0m\n\u001b[1;32m     17\u001b[0m         \u001b[0;32mfor\u001b[0m \u001b[0mi\u001b[0m \u001b[0;32min\u001b[0m \u001b[0mrange\u001b[0m\u001b[0;34m(\u001b[0m\u001b[0;36m0\u001b[0m\u001b[0;34m,\u001b[0m\u001b[0mcanti\u001b[0m\u001b[0;34m)\u001b[0m\u001b[0;34m:\u001b[0m\u001b[0;34m\u001b[0m\u001b[0;34m\u001b[0m\u001b[0m\n\u001b[0;32m---> 18\u001b[0;31m           \u001b[0mcomp\u001b[0m\u001b[0;34m.\u001b[0m\u001b[0mappend\u001b[0m\u001b[0;34m(\u001b[0m\u001b[0mvende\u001b[0m\u001b[0;34m)\u001b[0m\u001b[0;34m\u001b[0m\u001b[0;34m\u001b[0m\u001b[0m\n\u001b[0m\u001b[1;32m     19\u001b[0m         \u001b[0mvende\u001b[0m\u001b[0;34m=\u001b[0m\u001b[0minput\u001b[0m\u001b[0;34m(\u001b[0m\u001b[0;34m'necesita algo más, si no escriba salir '\u001b[0m\u001b[0;34m)\u001b[0m\u001b[0;34m\u001b[0m\u001b[0;34m\u001b[0m\u001b[0m\n\u001b[1;32m     20\u001b[0m \u001b[0;34m\u001b[0m\u001b[0m\n",
            "\u001b[0;31mNameError\u001b[0m: name 'comp' is not defined"
          ]
        }
      ]
    },
    {
      "cell_type": "markdown",
      "source": [
        "Error NameError,e genera cuando el identificador al que se accede no está definido en el ámbito local o global."
      ],
      "metadata": {
        "id": "A5jfoGYMe5Rq"
      }
    },
    {
      "cell_type": "code",
      "source": [
        "print( 0x 123)"
      ],
      "metadata": {
        "colab": {
          "base_uri": "https://localhost:8080/",
          "height": 130
        },
        "id": "eLdrOQ3NgBuX",
        "outputId": "53383c15-7474-4439-de51-a902271edb85"
      },
      "execution_count": 52,
      "outputs": [
        {
          "output_type": "error",
          "ename": "SyntaxError",
          "evalue": "ignored",
          "traceback": [
            "\u001b[0;36m  File \u001b[0;32m\"<ipython-input-52-8f85bf04c668>\"\u001b[0;36m, line \u001b[0;32m1\u001b[0m\n\u001b[0;31m    print( 0x 123)\u001b[0m\n\u001b[0m            ^\u001b[0m\n\u001b[0;31mSyntaxError\u001b[0m\u001b[0;31m:\u001b[0m invalid token\n"
          ]
        }
      ]
    },
    {
      "cell_type": "markdown",
      "source": [
        " se violaron las reglas de sintaxis. La razón es que no se nos permite usar 0 como prefijo en ningún número hasta que lo haya definido correctamente como hexadecimal o cadena."
      ],
      "metadata": {
        "id": "XyoM9-OxgXTU"
      }
    },
    {
      "cell_type": "code",
      "source": [
        ">>>while True print('hello world')\n",
        " file '<stidin>', line 1\n",
        "  while  True print('hello world')"
      ],
      "metadata": {
        "colab": {
          "base_uri": "https://localhost:8080/",
          "height": 130
        },
        "id": "_sihwYsKgwHQ",
        "outputId": "45409d5b-aea8-419c-f8db-a9e5c732f7b7"
      },
      "execution_count": 53,
      "outputs": [
        {
          "output_type": "error",
          "ename": "SyntaxError",
          "evalue": "ignored",
          "traceback": [
            "\u001b[0;36m  File \u001b[0;32m\"<ipython-input-53-ef93eb99c8a7>\"\u001b[0;36m, line \u001b[0;32m1\u001b[0m\n\u001b[0;31m    >>>while True print('hello world')\u001b[0m\n\u001b[0m     ^\u001b[0m\n\u001b[0;31mSyntaxError\u001b[0m\u001b[0;31m:\u001b[0m invalid syntax\n"
          ]
        }
      ]
    },
    {
      "cell_type": "markdown",
      "source": [
        "Error de sintaxis. para corregir se debe colocar : en la linea 1 y 3"
      ],
      "metadata": {
        "id": "sDQKcpVenhIk"
      }
    },
    {
      "cell_type": "code",
      "source": [
        " "
      ],
      "metadata": {
        "id": "E5OnzOMYle1L"
      },
      "execution_count": null,
      "outputs": []
    }
  ]
}