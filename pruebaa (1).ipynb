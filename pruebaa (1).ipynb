{
  "nbformat": 4,
  "nbformat_minor": 0,
  "metadata": {
    "colab": {
      "provenance": []
    },
    "kernelspec": {
      "name": "python3",
      "display_name": "Python 3"
    },
    "language_info": {
      "name": "python"
    }
  },
  "cells": [
    {
      "cell_type": "code",
      "execution_count": null,
      "metadata": {
        "colab": {
          "base_uri": "https://localhost:8080/",
          "height": 0
        },
        "id": "zjDbB3vbwcfg",
        "outputId": "b1d8b9eb-eed9-4617-9943-1c5e0ede2e68"
      },
      "outputs": [
        {
          "output_type": "stream",
          "name": "stdout",
          "text": [
            "los productos que tenemos son:combo1:20000,combo2:25000,combo3:18000,combo4:24500,jugos naturales:7000,cerveza:3500,agua:4000,gaseosa:2500,papas:3000\n"
          ]
        }
      ],
      "source": [
        "inv={\"combo1\":20000,\n",
        "     \"combo2\":25000,\"combo3\":18000,\n",
        "     \"combo4\":24500,\"jugos naturales\":7000,\n",
        "     \"cerveza\":3500,\"agua\":4000,\"gaseosa\":2500,\n",
        "     \"papas\":3000}\n",
        "print('los productos que tenemos son:combo1:20000,combo2:25000,combo3:18000,combo4:24500,jugos naturales:7000,cerveza:3500,agua:4000,gaseosa:2500,papas:3000')\n",
        "\n",
        "comp=[]\n",
        "tot=[]\n",
        "totalven=[]\n",
        "\n",
        "def caja():\n",
        "    vende = input('cualesproductos se vendieron ').lower()\n",
        "    canti = int(input('cuantos de cada producto '))\n",
        "    while vende!=\"salir\":\n",
        "      if vende in inv:\n",
        "        for i in range(0,canti):\n",
        "          comp.append(vende)\n",
        "        vende=input('necesita algo más, si no escriba salir ')\n",
        "        \n",
        "        canti = int(input('cuantos de cada producto desea '))\n",
        "      else:\n",
        "        vende=(input(\"no tenemos es eproducto \"))\n",
        "\n",
        "\n",
        "\n",
        "\n",
        "caja()\n",
        "print('estos son tus prodctos de la factura ',comp)\n",
        "respcliente=input('quiere comprar algo mas ').lower()\n",
        "if respcliente== \"si\":\n",
        "  caja()\n",
        "  print('esto se vendio el diade hoy ',comp)\n",
        "  for x in comp:\n",
        "    tot.append(inv[x])\n",
        "    horadepagart=sum(tot)\n",
        "else:\n",
        "  for x in comp:\n",
        "    tot.append(inv[x])\n",
        "    horadepagart=sum(tot)\n",
        "print('el total de la venta es ',horadepagart)\n",
        "mascosas=input(print('desea garegar mas cosas')).lower()\n",
        "tot=tot+1\n",
        "while mascosas!=\"no\":\n",
        "  if mascosas==\"si\":\n",
        "    caja()\n",
        "print('estos son tus prodctos de la factura ',comp)\n",
        "respcliente=input('quiere comprar algo mas').lower()\n",
        "if respcliente== \"si\":\n",
        "  caja()\n",
        "  print('esto se vendio el diade hoy',comp)\n",
        "  for x in comp:\n",
        "    tot.append(inv[x])\n",
        "    horadepagart=sum(tot)\n",
        "else:\n",
        "  for x in comp:\n",
        "    tot.append(inv[x])\n",
        "    horadepagart=sum(tot)\n",
        "print('el total de la venta es ',horadepagart)\n",
        "\n",
        " \n",
        "\n",
        "\n",
        "\n",
        "\n",
        "\n",
        "\n",
        "\n",
        "\n",
        "  \n",
        "     "
      ]
    },
    {
      "cell_type": "code",
      "source": [],
      "metadata": {
        "id": "oVyAY6734nFF"
      },
      "execution_count": 12,
      "outputs": []
    }
  ]
}